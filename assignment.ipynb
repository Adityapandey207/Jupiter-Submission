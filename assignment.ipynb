{
 "cells": [
  {
   "cell_type": "code",
   "execution_count": 1,
   "id": "7eff35a7",
   "metadata": {},
   "outputs": [],
   "source": [
    "import numpy as np\n",
    "import pandas as pd"
   ]
  },
  {
   "cell_type": "code",
   "execution_count": 2,
   "id": "ec24ffbf",
   "metadata": {},
   "outputs": [
    {
     "name": "stdout",
     "output_type": "stream",
     "text": [
      "<class 'pandas.core.frame.DataFrame'>\n",
      "RangeIndex: 25000 entries, 0 to 24999\n",
      "Data columns (total 17 columns):\n",
      " #   Column                        Non-Null Count  Dtype  \n",
      "---  ------                        --------------  -----  \n",
      " 0   customer_id                   25000 non-null  int64  \n",
      " 1   age                           25000 non-null  int64  \n",
      " 2   gender                        25000 non-null  object \n",
      " 3   location                      25000 non-null  object \n",
      " 4   monthly_income                25000 non-null  int64  \n",
      " 5   monthly_emi_outflow           25000 non-null  int64  \n",
      " 6   current_outstanding           25000 non-null  int64  \n",
      " 7   credit_utilization_ratio      25000 non-null  float64\n",
      " 8   num_open_loans                25000 non-null  int64  \n",
      " 9   repayment_history_score       25000 non-null  int64  \n",
      " 10  dpd_last_3_months             25000 non-null  int64  \n",
      " 11  num_hard_inquiries_last_6m    25000 non-null  int64  \n",
      " 12  recent_credit_card_usage      25000 non-null  int64  \n",
      " 13  recent_loan_disbursed_amount  25000 non-null  int64  \n",
      " 14  total_credit_limit            25000 non-null  int64  \n",
      " 15  months_since_last_default     22526 non-null  float64\n",
      " 16  target_credit_score_movement  25000 non-null  object \n",
      "dtypes: float64(2), int64(12), object(3)\n",
      "memory usage: 3.2+ MB\n"
     ]
    }
   ],
   "source": [
    "data=pd.read_csv('jupiter_intern.csv')\n",
    "data.info()"
   ]
  },
  {
   "cell_type": "code",
   "execution_count": 3,
   "id": "446d413f",
   "metadata": {},
   "outputs": [],
   "source": [
    "from sklearn.model_selection import train_test_split\n",
    "from sklearn.ensemble import RandomForestClassifier\n",
    "from sklearn.preprocessing import LabelEncoder\n",
    "from sklearn.metrics import classification_report, confusion_matrix\n",
    "from imblearn.over_sampling import SMOTE\n",
    "import matplotlib.pyplot as plt\n",
    "import seaborn as sns"
   ]
  },
  {
   "cell_type": "code",
   "execution_count": 4,
   "id": "65826af3",
   "metadata": {},
   "outputs": [],
   "source": [
    "def determine_credit_score_movement(row):\n",
    "    emi_income_ratio = row['monthly_emi_outflow'] / row['monthly_income']\n",
    "    if row['dpd_last_3_months'] > 60 and row['credit_utilization_ratio'] > 0.8 and row['num_hard_inquiries_last_6m'] > 3:\n",
    "        return 'decrease'\n",
    "    elif emi_income_ratio < 0.3 and row['repayment_history_score'] > 80:\n",
    "        return 'increase'\n",
    "    else:\n",
    "        return 'stable'"
   ]
  },
  {
   "cell_type": "code",
   "execution_count": 5,
   "id": "887d5051",
   "metadata": {},
   "outputs": [],
   "source": [
    "data['target_credit_score_movement'] = data.apply(determine_credit_score_movement, axis=1)"
   ]
  },
  {
   "cell_type": "code",
   "execution_count": 6,
   "id": "969a8ed6",
   "metadata": {},
   "outputs": [],
   "source": [
    "features = data.drop(columns=['customer_id', 'target_credit_score_movement'])\n",
    "features = pd.get_dummies(features)  # One-hot encode categorical variables\n",
    "labels = data['target_credit_score_movement']"
   ]
  },
  {
   "cell_type": "code",
   "execution_count": 7,
   "id": "3a3ea8d0",
   "metadata": {},
   "outputs": [],
   "source": [
    "features.fillna(-1, inplace=True)"
   ]
  },
  {
   "cell_type": "code",
   "execution_count": 8,
   "id": "7403a9be",
   "metadata": {},
   "outputs": [],
   "source": [
    "label_encoder = LabelEncoder()\n",
    "labels_encoded = label_encoder.fit_transform(labels)"
   ]
  },
  {
   "cell_type": "code",
   "execution_count": 9,
   "id": "e9abf1db",
   "metadata": {},
   "outputs": [],
   "source": [
    "X_train, X_test, y_train, y_test = train_test_split(features, labels_encoded, test_size=0.2, random_state=42, stratify=labels_encoded)"
   ]
  },
  {
   "cell_type": "code",
   "execution_count": 10,
   "id": "82969134",
   "metadata": {},
   "outputs": [],
   "source": [
    "smote = SMOTE(random_state=42)\n",
    "X_train_resampled, y_train_resampled = smote.fit_resample(X_train, y_train)"
   ]
  },
  {
   "cell_type": "code",
   "execution_count": 11,
   "id": "1df3fe81",
   "metadata": {},
   "outputs": [
    {
     "data": {
      "text/plain": [
       "RandomForestClassifier(random_state=42)"
      ]
     },
     "execution_count": 11,
     "metadata": {},
     "output_type": "execute_result"
    }
   ],
   "source": [
    "model = RandomForestClassifier(random_state=42)\n",
    "model.fit(X_train_resampled, y_train_resampled)"
   ]
  },
  {
   "cell_type": "code",
   "execution_count": 12,
   "id": "28f89c31",
   "metadata": {},
   "outputs": [
    {
     "data": {
      "text/plain": [
       "array([2, 2, 1, ..., 2, 2, 2])"
      ]
     },
     "execution_count": 12,
     "metadata": {},
     "output_type": "execute_result"
    }
   ],
   "source": [
    "y_pred = model.predict(X_test)\n",
    "report = classification_report(y_test, y_pred, target_names=label_encoder.classes_, output_dict=True)\n",
    "report_df = pd.DataFrame(report).transpose()\n",
    "y_pred"
   ]
  },
  {
   "cell_type": "code",
   "execution_count": 13,
   "id": "535f6758",
   "metadata": {},
   "outputs": [],
   "source": [
    "import matplotlib.pyplot as plt\n",
    "from sklearn import metrics"
   ]
  },
  {
   "cell_type": "code",
   "execution_count": 14,
   "id": "5959f70f",
   "metadata": {},
   "outputs": [
    {
     "data": {
      "text/html": [
       "<div>\n",
       "<style scoped>\n",
       "    .dataframe tbody tr th:only-of-type {\n",
       "        vertical-align: middle;\n",
       "    }\n",
       "\n",
       "    .dataframe tbody tr th {\n",
       "        vertical-align: top;\n",
       "    }\n",
       "\n",
       "    .dataframe thead th {\n",
       "        text-align: right;\n",
       "    }\n",
       "</style>\n",
       "<table border=\"1\" class=\"dataframe\">\n",
       "  <thead>\n",
       "    <tr style=\"text-align: right;\">\n",
       "      <th></th>\n",
       "      <th>precision</th>\n",
       "      <th>recall</th>\n",
       "      <th>f1-score</th>\n",
       "      <th>support</th>\n",
       "    </tr>\n",
       "  </thead>\n",
       "  <tbody>\n",
       "    <tr>\n",
       "      <th>decrease</th>\n",
       "      <td>1.000000</td>\n",
       "      <td>0.950000</td>\n",
       "      <td>0.974359</td>\n",
       "      <td>20.0000</td>\n",
       "    </tr>\n",
       "    <tr>\n",
       "      <th>increase</th>\n",
       "      <td>0.879271</td>\n",
       "      <td>0.957816</td>\n",
       "      <td>0.916865</td>\n",
       "      <td>403.0000</td>\n",
       "    </tr>\n",
       "    <tr>\n",
       "      <th>stable</th>\n",
       "      <td>0.996037</td>\n",
       "      <td>0.988420</td>\n",
       "      <td>0.992214</td>\n",
       "      <td>4577.0000</td>\n",
       "    </tr>\n",
       "    <tr>\n",
       "      <th>accuracy</th>\n",
       "      <td>0.985800</td>\n",
       "      <td>0.985800</td>\n",
       "      <td>0.985800</td>\n",
       "      <td>0.9858</td>\n",
       "    </tr>\n",
       "    <tr>\n",
       "      <th>macro avg</th>\n",
       "      <td>0.958436</td>\n",
       "      <td>0.965412</td>\n",
       "      <td>0.961146</td>\n",
       "      <td>5000.0000</td>\n",
       "    </tr>\n",
       "    <tr>\n",
       "      <th>weighted avg</th>\n",
       "      <td>0.986642</td>\n",
       "      <td>0.985800</td>\n",
       "      <td>0.986069</td>\n",
       "      <td>5000.0000</td>\n",
       "    </tr>\n",
       "  </tbody>\n",
       "</table>\n",
       "</div>"
      ],
      "text/plain": [
       "              precision    recall  f1-score    support\n",
       "decrease       1.000000  0.950000  0.974359    20.0000\n",
       "increase       0.879271  0.957816  0.916865   403.0000\n",
       "stable         0.996037  0.988420  0.992214  4577.0000\n",
       "accuracy       0.985800  0.985800  0.985800     0.9858\n",
       "macro avg      0.958436  0.965412  0.961146  5000.0000\n",
       "weighted avg   0.986642  0.985800  0.986069  5000.0000"
      ]
     },
     "execution_count": 14,
     "metadata": {},
     "output_type": "execute_result"
    }
   ],
   "source": [
    "conf_matrix = confusion_matrix(y_test, y_pred)\n",
    "report_df"
   ]
  },
  {
   "cell_type": "code",
   "execution_count": 15,
   "id": "2a554a1a",
   "metadata": {},
   "outputs": [],
   "source": [
    "cm_display = metrics.ConfusionMatrixDisplay(confusion_matrix = conf_matrix, display_labels = [0, 1,2])\n"
   ]
  },
  {
   "cell_type": "code",
   "execution_count": 16,
   "id": "89b4b58e",
   "metadata": {},
   "outputs": [
    {
     "data": {
      "image/png": "[encoded data removed]",
      "text/plain": [
       "<Figure size 432x288 with 2 Axes>"
      ]
     },
     "metadata": {
      "needs_background": "light"
     },
     "output_type": "display_data"
    }
   ],
   "source": [
    "cm_display.plot()\n",
    "plt.show()"
   ]
  },
  {
   "cell_type": "code",
   "execution_count": 17,
   "id": "9f2b0bde",
   "metadata": {},
   "outputs": [
    {
     "data": {
      "text/plain": [
       "array([[  19,    0,    1],\n",
       "       [   0,  386,   17],\n",
       "       [   0,   53, 4524]], dtype=int64)"
      ]
     },
     "execution_count": 17,
     "metadata": {},
     "output_type": "execute_result"
    }
   ],
   "source": [
    "conf_matrix \n"
   ]
  }
 ],
 "metadata": {
  "kernelspec": {
   "display_name": "base",
   "language": "python",
   "name": "python3"
  },
  "language_info": {
   "codemirror_mode": {
    "name": "ipython",
    "version": 3
   },
   "file_extension": ".py",
   "mimetype": "text/x-python",
   "name": "python",
   "nbconvert_exporter": "python",
   "pygments_lexer": "ipython3",
   "version": "3.9.12"
  }
 },
 "nbformat": 4,
 "nbformat_minor": 5
}
